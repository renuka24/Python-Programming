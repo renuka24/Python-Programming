{
 "cells": [
  {
   "cell_type": "code",
   "execution_count": 1,
   "metadata": {},
   "outputs": [
    {
     "name": "stdout",
     "output_type": "stream",
     "text": [
      "Enter a number:15\n",
      "Factors of 15 are: [1, 3, 5, 15]\n",
      "1is an odd factor\n",
      "3is an odd factor\n",
      "5is an odd factor\n",
      "15is an odd factor\n"
     ]
    }
   ],
   "source": [
    "#Enter input\n",
    "factor_list = []\n",
    "num = int(input(\"Enter a number:\"))\n",
    "\n",
    "#function to find factors\n",
    "def find_factors(x):\n",
    "    for i in range(1, x + 1):\n",
    "        if x % i == 0:\n",
    "            factor_list.append(i)\n",
    "\n",
    "#function to find which factor is even or odd\n",
    "def find_evenorodd():\n",
    "    for f in factor_list:\n",
    "        if f % 2 == 0:\n",
    "            print(str(f) + 'is an even factor')\n",
    "        else:\n",
    "            print(str(f) + 'is an odd factor')\n",
    "\n",
    "#call find factors function\n",
    "find_factors(num)\n",
    "#print factor list\n",
    "print(\"Factors of\", num, \"are:\", factor_list)\n",
    "find_evenorodd()"
   ]
  },
  {
   "cell_type": "code",
   "execution_count": 2,
   "metadata": {},
   "outputs": [
    {
     "name": "stdout",
     "output_type": "stream",
     "text": [
      "Enter input:who are you\n",
      "List of words after sorting:\n",
      "are\n",
      "who\n",
      "you\n"
     ]
    }
   ],
   "source": [
    "# Sort words in alphabetical order\n",
    "list_words = input(\"Enter input:\")\n",
    "\n",
    "# Split string into words\n",
    "wordlist = list_words.split()\n",
    "\n",
    "# word list sorting\n",
    "wordlist.sort()\n",
    "\n",
    "# print sorted word list\n",
    "print(\"List of words after sorting:\")\n",
    "for word in wordlist:\n",
    "   print(word)"
   ]
  },
  {
   "cell_type": "code",
   "execution_count": 3,
   "metadata": {},
   "outputs": [
    {
     "name": "stdout",
     "output_type": "stream",
     "text": [
      "Enter first value of range:1000\n",
      "Enter second value of range:3001\n",
      "2000,2002,2004,2006,2008,2020,2022,2024,2026,2028,2040,2042,2044,2046,2048,2060,2062,2064,2066,2068,2080,2082,2084,2086,2088,2200,2202,2204,2206,2208,2220,2222,2224,2226,2228,2240,2242,2244,2246,2248,2260,2262,2264,2266,2268,2280,2282,2284,2286,2288,2400,2402,2404,2406,2408,2420,2422,2424,2426,2428,2440,2442,2444,2446,2448,2460,2462,2464,2466,2468,2480,2482,2484,2486,2488,2600,2602,2604,2606,2608,2620,2622,2624,2626,2628,2640,2642,2644,2646,2648,2660,2662,2664,2666,2668,2680,2682,2684,2686,2688,2800,2802,2804,2806,2808,2820,2822,2824,2826,2828,2840,2842,2844,2846,2848,2860,2862,2864,2866,2868,2880,2882,2884,2886,2888\n"
     ]
    }
   ],
   "source": [
    "#Enter input values\n",
    "val1 = int(input('Enter first value of range:'))\n",
    "val2 = int(input('Enter second value of range:'))\n",
    "numbers = []\n",
    "#loop through each value to find each digit of value is even or odd\n",
    "for i in range(val1, val2):\n",
    "    s = str(i)\n",
    "    if (int(s[0])%2==0) and (int(s[1])%2==0) and (int(s[2])%2==0) and (int(s[3])%2==0):\n",
    "        numbers.append(s)\n",
    "print( \",\".join(numbers))"
   ]
  },
  {
   "cell_type": "code",
   "execution_count": 4,
   "metadata": {},
   "outputs": [
    {
     "name": "stdout",
     "output_type": "stream",
     "text": [
      "Enter Input:python0325\n",
      "LETTERS: 6\n",
      "DIGITS: 4\n"
     ]
    }
   ],
   "source": [
    "#Enter input\n",
    "sen = input(\"Enter Input:\")\n",
    "#create varibles to save letters count and digits count\n",
    "count_letters = 0\n",
    "count_digits = 0\n",
    "#loop through each character of a string\n",
    "for char in sen:\n",
    "    #character is digit \n",
    "    if char.isdigit():\n",
    "        count_digits = count_digits + 1\n",
    "    #character is letter\n",
    "    elif char.isalpha():\n",
    "        count_letters = count_letters + 1\n",
    "    #character is neither digit nor letter\n",
    "    else:\n",
    "        pass\n",
    "#print letters and digits count\n",
    "print(\"LETTERS:\", count_letters)\n",
    "print(\"DIGITS:\", count_digits)"
   ]
  },
  {
   "cell_type": "code",
   "execution_count": 5,
   "metadata": {},
   "outputs": [
    {
     "name": "stdout",
     "output_type": "stream",
     "text": [
      "Enter any number : 12321\n",
      "Input number is Palindrome\n"
     ]
    }
   ],
   "source": [
    "#Enter Input\n",
    "num = input('Enter any number : ')\n",
    "if num.isdigit():\n",
    "    #Reverse the input number\n",
    "    reversenum = str(num)[::-1]\n",
    "    #check for palindrome and print\n",
    "    if num == reversenum:\n",
    "        print('Input number is Palindrome')\n",
    "    elif num != reversenum:\n",
    "        print('Input number is not a palindrome')\n",
    "else: \n",
    "    print('This is not a number, Try again')"
   ]
  }
 ],
 "metadata": {
  "kernelspec": {
   "display_name": "Python 3",
   "language": "python",
   "name": "python3"
  },
  "language_info": {
   "codemirror_mode": {
    "name": "ipython",
    "version": 3
   },
   "file_extension": ".py",
   "mimetype": "text/x-python",
   "name": "python",
   "nbconvert_exporter": "python",
   "pygments_lexer": "ipython3",
   "version": "3.6.5"
  }
 },
 "nbformat": 4,
 "nbformat_minor": 2
}
